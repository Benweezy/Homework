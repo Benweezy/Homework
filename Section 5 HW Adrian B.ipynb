{
 "cells": [
  {
   "cell_type": "markdown",
   "metadata": {},
   "source": [
    "1. What does Pandas stand for?\n",
    "\n",
    "Panel Data or Python Data Analysis\n",
    "\n",
    "2. What are the 2 collections used in Pandas?\n",
    "\n",
    "    Series and dataFrames\n",
    "\n",
    "3. Name 4 things Pandas can do for us.\n",
    "\n",
    "    5 Data Analysis steps:\n",
    "    Load\n",
    "    Manipulate\n",
    "    Prepare\n",
    "    Model \n",
    "    Analyze data\n",
    "\n",
    "4. To permanently sort a DataFrame, which keyword should one use with the `df.sort()` method?\n",
    "\n",
    "df.sort_values(by='variable, inplace=True)\n",
    "\n",
    "5. What is a CSV?\n",
    "\n",
    "    Comma Separated Value - Plain text file format to store number\n",
    "\n",
    "6. When cleaning data what values do we not like in our data?\n",
    "\n",
    "    NULL values"
   ]
  },
  {
   "cell_type": "code",
   "execution_count": 1,
   "metadata": {},
   "outputs": [
    {
     "name": "stdout",
     "output_type": "stream",
     "text": [
      "[[[ 0  1]\n",
      "  [ 2  3]\n",
      "  [ 4  5]]\n",
      "\n",
      " [[ 6  7]\n",
      "  [ 8  9]\n",
      "  [10 11]]]\n"
     ]
    }
   ],
   "source": [
    "#7. Import NumPy, use one of the NumPy methods and create an array with a shape of (2, 3, 2). You can use the reshape method -- `.reshape()`\n",
    "import numpy as np\n",
    "array = np.arange(12)\n",
    "array_3d = array.reshape(2, 3, 2)\n",
    "print(array_3d)"
   ]
  },
  {
   "cell_type": "code",
   "execution_count": 3,
   "metadata": {},
   "outputs": [
    {
     "name": "stdout",
     "output_type": "stream",
     "text": [
      "[ 0.  4.  8. 12. 16. 20.]\n",
      "[ 0.  4.  8. 12. 16. 20.]\n",
      "[69.  4.  8. 12. 16. 20.]\n"
     ]
    }
   ],
   "source": [
    "#8. Use NumPy `.linspace()` to create an array with 6 linearly spaced values between 0 and 20\n",
    "import numpy as np\n",
    "linear_array = np.linspace(0, 20, 6)\n",
    "print(linear_array)\n",
    "\n",
    "#9. Make a Deep Copy of the above array\n",
    "dc_array = np.copy(linear_array)\n",
    "dc_array[0] = 69\n",
    "\n",
    "print(linear_array)\n",
    "print(dc_array)\n",
    "\n",
    "\n"
   ]
  },
  {
   "cell_type": "code",
   "execution_count": 12,
   "metadata": {},
   "outputs": [
    {
     "name": "stdout",
     "output_type": "stream",
     "text": [
      "[[25 16]\n",
      " [11  2]\n",
      " [13  4]\n",
      " [ 7 81]\n",
      " [ 5  6]\n",
      " [11 12]]\n",
      "[[ 5  2]\n",
      " [ 7  4]\n",
      " [11  6]\n",
      " [11 12]\n",
      " [13 16]\n",
      " [25 81]]\n",
      "[ 5  7 11 11 13 25]\n",
      "[ 2  4  6 12 16 81]\n"
     ]
    }
   ],
   "source": [
    "#10. Concatenate these 3 arrays into a new array named 'newArray'...\n",
    " #   ```python\n",
    " #           ([[25, 16]])\n",
    " #           ([[11, 2], [13, 4]])\n",
    " #           ([[7, 81], [5, 6], [11, 12]])\n",
    "\n",
    "import numpy as np\n",
    "array_1 = np.array([[25, 16]])\n",
    "array_2 = np.array([[11, 2], [13, 4]])\n",
    "array_3 = np.array([[7, 81], [5, 6], [11, 12]])\n",
    "\n",
    "newArray = np.concatenate((array_1, array_2, array_3), axis=0)\n",
    "print(newArray)\n",
    "\n",
    "#11. Sort 'newArray' in order into 'sortedArray'\n",
    "\n",
    "sortedArray = np.sort(newArray, axis=0)\n",
    "print(sortedArray)\n",
    "\n",
    "#12. Unpack the array tuples from the above 'sortedArray'  into 4 well named variables. Print the 4 variables.\n",
    "# Only able to do 2?\n",
    "\n",
    "a = sortedArray[:, 0]\n",
    "b = sortedArray[:, 1]\n",
    "print(a)\n",
    "print(b)\n",
    "\n"
   ]
  },
  {
   "cell_type": "code",
   "execution_count": 13,
   "metadata": {},
   "outputs": [
    {
     "name": "stdout",
     "output_type": "stream",
     "text": [
      "comboArray [ 0  1  2  3  4  5  6  7 10 11 12 13 14 15 16 17 20 21 22 23 24 25 26 27]\n",
      "sec1: 1\n",
      "sec2: [ 2  3  4  5  6  7 10 11 12 13 14 15 16 17 20 21 22 23 24 25 26 27]\n",
      "sec3: [ 3  4  5  6  7 10 11 12 13 14]\n",
      "sec4: [22 23 24 25 26 27]\n",
      "sec5: [ 0  1  2  3  4  5  6  7 10 11 12 13 14 15]\n",
      "sec6: [22 24 26]\n",
      "sec7: [27 22 15 10  3]\n"
     ]
    }
   ],
   "source": [
    "#13. Combined and sort the following arrays into one called 'comboArray' ...\n",
    "\n",
    "   # ```python\n",
    "    #    one = ([10, 11, 12, 13, 14, 15, 16, 17])\n",
    "     #   two = ([20, 21, 22, 23, 24, 25, 26, 27])\n",
    "      #  three = ([ 0, 1, 2, 3, 4, 5, 6, 7])\n",
    "    #```\n",
    "\n",
    "import numpy as np\n",
    "\n",
    "one = ([10, 11, 12, 13, 14, 15, 16, 17])\n",
    "two = ([20, 21, 22, 23, 24, 25, 26, 27])\n",
    "three = ([ 0, 1, 2, 3, 4, 5, 6, 7])\n",
    "\n",
    "comboArray = np.concatenate((one, two, three))\n",
    "                            \n",
    "comboArray = np.sort(comboArray)\n",
    "\n",
    "print('comboArray', comboArray)\n",
    "\n",
    "#14.\n",
    "sec1 = comboArray[1]\n",
    "sec2 = comboArray[2:]\n",
    "sec3 = comboArray[3:13]\n",
    "sec4 = comboArray[-6:]\n",
    "sec5 = comboArray[:14]\n",
    "sec6 = comboArray[18::2]\n",
    "sec7 = comboArray[::-5]\n",
    "\n",
    "print(\"sec1:\", sec1)\n",
    "print(\"sec2:\", sec2)\n",
    "print('sec3:', sec3)\n",
    "print('sec4:', sec4) \n",
    "print('sec5:', sec5)\n",
    "print('sec6:', sec6)\n",
    "print('sec7:', sec7)"
   ]
  },
  {
   "cell_type": "code",
   "execution_count": 25,
   "metadata": {},
   "outputs": [
    {
     "name": "stdout",
     "output_type": "stream",
     "text": [
      "  Ingredients  Quantity  Units\n",
      "0       Flour         4   cups\n",
      "1        Milk         1    cup\n",
      "2        Eggs         2  large\n",
      "3        Spam         1    can\n"
     ]
    }
   ],
   "source": [
    "#15. Create a DataFrame using Series\n",
    "import pandas as pd\n",
    "\n",
    "recipe = {\n",
    "    \"Ingredients\": [\"Flour\", \"Milk\", \"Eggs\", \"Spam\"],\n",
    "    \"Quantity\": [4, 1, 2, 1],\n",
    "    \"Units\": [\"cups\", \"cup\", \"large\", \"can\"]\n",
    "}\n",
    "\n",
    "dinner_df = pd.DataFrame(recipe, columns=[\"Ingredients\", \"Quantity\", \"Units\"])\n",
    "\n",
    "print(dinner_df)"
   ]
  },
  {
   "cell_type": "code",
   "execution_count": 28,
   "metadata": {},
   "outputs": [
    {
     "name": "stdout",
     "output_type": "stream",
     "text": [
      "      Name  Height Qualification  Address  Age        Pets           sport\n",
      "0      Jai     5.1           Msc    Delhi   21         Dog           Darts\n",
      "1  janusha     6.2            MA     Doha   23       Bunny      Basketball\n",
      "2   Gaurav     5.1           Msc  Chennai   24  Chinchilla  PaddleBoarding\n",
      "3     Anuj     5.2           Msc   Dakhar   21      Parrot         Cricket\n",
      "      Name  Height Qualification  Address  Age        Pets           sport  \\\n",
      "0      Jai     5.1           Msc    Delhi   21         Dog           Darts   \n",
      "1  janusha     6.2            MA     Doha   23       Bunny      Basketball   \n",
      "2   Gaurav     5.1           Msc  Chennai   24  Chinchilla  PaddleBoarding   \n",
      "3     Anuj     5.2           Msc   Dakhar   21      Parrot         Cricket   \n",
      "\n",
      "       Desserts  \n",
      "0     Ice cream  \n",
      "1  Cashew Fudge  \n",
      "2       Waffels  \n",
      "3  Carrot Halwa  \n",
      "      Name  Height Qualification  Address  Age        Pets           sport  \\\n",
      "3     Anuj     5.2           Msc   Dakhar   21      Parrot         Cricket   \n",
      "2   Gaurav     5.1           Msc  Chennai   24  Chinchilla  PaddleBoarding   \n",
      "0      Jai     5.1           Msc    Delhi   21         Dog           Darts   \n",
      "1  janusha     6.2            MA     Doha   23       Bunny      Basketball   \n",
      "\n",
      "       Desserts  \n",
      "3  Carrot Halwa  \n",
      "2       Waffels  \n",
      "0     Ice cream  \n",
      "1  Cashew Fudge  \n"
     ]
    }
   ],
   "source": [
    "#16. Take this data and create a DataFrame named studentData\n",
    "import pandas as pddata \n",
    "\n",
    "data = {\n",
    "\n",
    "    'Name': ['Jai', 'janusha', 'Gaurav', 'Anuj'],\n",
    "            'Height': [5.1, 6.2, 5.1, 5.2],\n",
    "            'Qualification': ['Msc', 'MA', 'Msc', 'Msc'],\n",
    "            'Address': ['Delhi', 'Doha', 'Chennai', 'Dakhar'],\n",
    "            'Age': [21, 23, 24, 21],\n",
    "            'Pets': ['Dog', 'Bunny', 'Chinchilla', 'Parrot'],\n",
    "            'sport': ['Darts', 'Basketball', 'PaddleBoarding', 'Cricket']\n",
    "}\n",
    "\n",
    "studentData = pd.DataFrame(data)\n",
    "\n",
    "print(studentData)\n",
    "\n",
    "#17 add desserts to studentData\n",
    "desserts = [\"Ice cream\", \"Cashew Fudge\", \"Waffels\", \"Carrot Halwa\"]\n",
    "studentData['Desserts'] = desserts\n",
    "\n",
    "print(studentData)\n",
    "\n",
    "#18 sort studentData by names and address\n",
    "sorted_studentData = studentData.sort_values(by=['Name', 'Address'], ascending=[True, True])\n",
    "\n",
    "print(sorted_studentData)\n"
   ]
  },
  {
   "cell_type": "code",
   "execution_count": null,
   "metadata": {},
   "outputs": [],
   "source": []
  }
 ],
 "metadata": {
  "kernelspec": {
   "display_name": "Python 3",
   "language": "python",
   "name": "python3"
  },
  "language_info": {
   "codemirror_mode": {
    "name": "ipython",
    "version": 3
   },
   "file_extension": ".py",
   "mimetype": "text/x-python",
   "name": "python",
   "nbconvert_exporter": "python",
   "pygments_lexer": "ipython3",
   "version": "3.11.6"
  }
 },
 "nbformat": 4,
 "nbformat_minor": 2
}
