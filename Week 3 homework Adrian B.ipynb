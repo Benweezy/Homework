{
 "cells": [
  {
   "cell_type": "markdown",
   "metadata": {},
   "source": [
    "#Homework week 3!"
   ]
  },
  {
   "cell_type": "markdown",
   "metadata": {},
   "source": [
    "1. What is an algorithm\n",
    "    A series of steps to solve a problem\n",
    "\n",
    "2. Varable names may not start with certain characters - name 2\n",
    "    variable names cannot start with numbers and special characters\n",
    "\n",
    "3. What is a semantic error?\n",
    "    semantic errors are technical errors that do not cause errors in the program\n",
    "\n",
    "4. What is the #1 rule of programming / debugging?\n",
    "    console log everything?\n",
    "    keep the code simple.\n",
    "\n",
    "5. List 5 python reserved words\n",
    "    'and' 'or' 'not' 'if' 'else'"
   ]
  },
  {
   "cell_type": "code",
   "execution_count": 65,
   "metadata": {},
   "outputs": [
    {
     "name": "stdout",
     "output_type": "stream",
     "text": [
      "\n",
      "my name is Adrian\n",
      "my favorite food is chicken tikimasala\n",
      "my dream job is bull fighter\n",
      "\n",
      "<class 'str'>\n"
     ]
    },
    {
     "data": {
      "text/plain": [
       "'This is a multi line comment\\nThis is another line\\n'"
      ]
     },
     "execution_count": 65,
     "metadata": {},
     "output_type": "execute_result"
    }
   ],
   "source": [
    "#6\n",
    "name = 'Adrian'\n",
    "favorite_food = 'chicken tikimasala'\n",
    "dream_job = 'bull fighter'\n",
    "\n",
    "string = f\"\"\"\n",
    "my name is {name}\n",
    "my favorite food is {favorite_food}\n",
    "my dream job is {dream_job}\n",
    "\"\"\"\n",
    "print(string)\n",
    "\n",
    "#This is a single line comment helpful in seq\n",
    "data = 'this is a string'\n",
    "print(type(data))\n",
    "'''This is a multi line comment\n",
    "This is another line\n",
    "'''"
   ]
  },
  {
   "cell_type": "code",
   "execution_count": 5,
   "metadata": {},
   "outputs": [
    {
     "name": "stdout",
     "output_type": "stream",
     "text": [
      "Hello, nice to meet you.\n",
      "29\n",
      "70.3\n",
      "['water', 'tea', 'soda', 'juice']\n",
      "{'name': 'Adrian', 'age': 29}\n",
      "the length of my greeting is =  24 characters\n",
      "number 4 =  o\n"
     ]
    }
   ],
   "source": [
    "#7 data types - string, list, float, integer, boolean - true/false, \n",
    "greeting = \"Hello, nice to meet you.\"\n",
    "age = 29\n",
    "velo = 70.3\n",
    "drinks = [\"water\", \"tea\", \"soda\", \"juice\"]\n",
    "profile = {\"name\" : \"Adrian\", \"age\" : 29}\n",
    "\n",
    "print(type(greeting))\n",
    "print(type(29))\n",
    "print(type(velo))\n",
    "print(drinks)\n",
    "print(profile)\n",
    "\n",
    "print(\"the length of my greeting is = \", len(greeting), \"characters\")\n",
    "print(\"number 4 = \", greeting[4])"
   ]
  },
  {
   "cell_type": "code",
   "execution_count": 9,
   "metadata": {},
   "outputs": [
    {
     "name": "stdout",
     "output_type": "stream",
     "text": [
      "ing Data Analytic\n",
      "Learning Data Analytics and Python is great!\n"
     ]
    }
   ],
   "source": [
    "#8 slice print(variable[5:22]) replace print(variable.replace(\"Awesome\", \"Great\"))\n",
    "savvy = \"Learning Data Analytics and Python is Awesome!\"\n",
    "print(savvy[5:22])\n",
    "print(savvy.replace(\"Awesome\", \"great\"))"
   ]
  },
  {
   "cell_type": "code",
   "execution_count": 12,
   "metadata": {},
   "outputs": [
    {
     "name": "stdout",
     "output_type": "stream",
     "text": [
      "hi my name is Adrian. i am 69 inches tall. and 30.0 years old.\n",
      "30.0\n"
     ]
    }
   ],
   "source": [
    "#9 fstring allows us to quickly pass variables with strings\n",
    "name = \"Adrian\"\n",
    "age = float(30)\n",
    "length = \"69\"\n",
    "minibio = (\n",
    "    f\"hi my name is {name}. \"\n",
    "    f\"i am {length} inches tall. \"\n",
    "    f\"and {age} years old.\"\n",
    ")\n",
    "\n",
    "print(minibio)\n",
    "print(age)\n"
   ]
  },
  {
   "cell_type": "code",
   "execution_count": 27,
   "metadata": {},
   "outputs": [
    {
     "name": "stdout",
     "output_type": "stream",
     "text": [
      "inputlist... ['python', 29, 4.2, [1, 2, 3, 4, 5], {'fruit': 'pinapple', 'taste': 'sweet'}, True]\n",
      "[['snake'], 29, 4.2, {'fruit': 'pinapple', 'taste': 'sweet'}, True, 'airplane']\n"
     ]
    }
   ],
   "source": [
    "#10 list\n",
    "inputlist = [\"python\", 29, 4.20, [1,2,3,4,5], {\"fruit\" : \"pinapple\" , \"taste\" : \"sweet\"}, True]\n",
    "print(\"inputlist...\", inputlist )\n",
    "\n",
    "inputlist[0] = [\"snake\"]\n",
    "inputlist.append(\"airplane\")\n",
    "len(inputlist)\n",
    "del inputlist[3]\n",
    "print(inputlist)"
   ]
  },
  {
   "cell_type": "code",
   "execution_count": 74,
   "metadata": {},
   "outputs": [
    {
     "name": "stdout",
     "output_type": "stream",
     "text": [
      "<class 'tuple'>\n",
      "('red', 'blue', 'yellow', 'green', 'gold', 'red', 'blue', 'yellow', 'green', 'gold', 'red', 'blue', 'yellow', 'green', 'gold')\n",
      "blue\n",
      "['blue', 'blue', 'blue', 'gold', 'gold', 'gold', 'green', 'green', 'green', 'red', 'red', 'red', 'yellow', 'yellow', 'yellow']\n",
      "('red', 'blue', 'yellow', 'green')\n",
      "(50,)\n",
      "('red', 'blue', 'yellow', 'green', 'gold', 'red', 'blue', 'yellow', 'green', 'gold', 'red', 'blue', 'yellow', 'green', 'gold', 'red', 'blue', 'yellow', 'green')\n"
     ]
    }
   ],
   "source": [
    "#11 tupples\n",
    "tup1 = ('red', 'blue', 'yellow', 'green', 'gold')\n",
    "print(type(tup1))\n",
    "tup2 = (tup1 * 3)\n",
    "print(tup2)\n",
    "print(tup2[11])\n",
    "print(sorted(tup2))\n",
    "tup3 = tup2[0:4]\n",
    "print(tup3)\n",
    "\n",
    "#'red', 'blue', 'yellow', 'green' = tup3\n",
    "#print(red)\n",
    "#print(blue)\n",
    "#print(yellow)\n",
    "#print(green)\n",
    "\n",
    "tup4 = 50,\n",
    "print(tup4)\n",
    "\n",
    "tup5 = tup2 + tup3\n",
    "print(tup5)\n"
   ]
  },
  {
   "cell_type": "code",
   "execution_count": 4,
   "metadata": {},
   "outputs": [
    {
     "name": "stdout",
     "output_type": "stream",
     "text": [
      "set after adding fruits: {'nickel', 'penny', 'banana', 'apple', 'cherry', 'dime'}\n",
      "Set after adding car {'nickel', 'penny', 'banana', 'apple', 'car', 'cherry', 'dime'}\n",
      "{'nickel', 'penny', 'banana', 'apple', 'car', 'cherry', 'polo', 'dime', 'pingpong', 'football'}\n",
      "popped element pingpong\n",
      "after pop {'football', 'polo'}\n",
      "set()\n"
     ]
    }
   ],
   "source": [
    "#12 SETS\n",
    "coins = {\"penny\", \"nickel\", \"dime\"}\n",
    "fruits = [\"apple\", \"banana\", \"cherry\"]\n",
    "\n",
    "coins.update(fruits)\n",
    "print(\"set after adding fruits:\", coins)\n",
    "\n",
    "coins.add(\"car\")\n",
    "print(\"Set after adding car\", coins)\n",
    "\n",
    "sports = {\"pingpong\", \"polo\", \"football\"}\n",
    "\n",
    "mix = coins.union(sports)\n",
    "print(mix)\n",
    "\n",
    "popped_element = sports.pop()\n",
    "print(\"popped element\", popped_element)\n",
    "print(\"after pop\", sports)\n",
    "\n",
    "coins.clear()\n",
    "print(coins)\n",
    "\n",
    "#theset.add adds single element in set\n",
    "#theset.update\n",
    "#theset.union\n",
    "#theset.clear theset.discard theset.remove theset.pop"
   ]
  },
  {
   "cell_type": "code",
   "execution_count": 27,
   "metadata": {},
   "outputs": [
    {
     "ename": "SyntaxError",
     "evalue": "invalid syntax (2348272093.py, line 22)",
     "output_type": "error",
     "traceback": [
      "\u001b[1;36m  Cell \u001b[1;32mIn[27], line 22\u001b[1;36m\u001b[0m\n\u001b[1;33m    print(mydogDict) print(type(mydogDict))\u001b[0m\n\u001b[1;37m                     ^\u001b[0m\n\u001b[1;31mSyntaxError\u001b[0m\u001b[1;31m:\u001b[0m invalid syntax\n"
     ]
    }
   ],
   "source": [
    "#13. Create a dictionary with at least 5 values of different data types\n",
    "mydogDict = {\n",
    "   'Name': 'Noble', \n",
    "   'Breed': 'Boxer', \n",
    "   'Age': 5, \n",
    "   'Tail': False, \n",
    "   'Weight': '75 lbs', \n",
    "   'Color': 'Brown'\n",
    "}\n",
    "    # Print out 1 value\n",
    "print(mydogDict['Breed'])\n",
    "    # Replace any one value in your dictionary with your name\n",
    "mydogDict['Name'] = 'Adrian'\n",
    "    # Add your favorite color to the dictionary\n",
    "mydogDict['Favorite_Color'] = 'Orange'\n",
    "    # Add a list, tuple or set to your dictionary\n",
    "mydogDict['Favorite_Foods'] = ('Chicken', 'Miso_Soup', 'Tofu')\n",
    "    # Print a list of the dictionary keys\n",
    "keys_list=list(myDog.keys())\n",
    "print(keys_list)\n",
    "    # Print a list of the dictionary values\n",
    "print(mydogDict) print(type(mydogDict))\n",
    "    # Copy your 1st dictionary into a 2nd dictionary\n",
    "mydogDict_copy = dict(mydogdict)\n",
    "    # Pop an item from the 2nd dictionary, and print the dictionary\n",
    "mydogDict_copy.pop(0)\n",
    "print(mydogDict_copy)\n",
    "    # Remove all the elements from the 2nd dictionary and print the result\n",
    "mydogDict_copy.clear()\n",
    "print(mydogDict_copy)"
   ]
  }
 ],
 "metadata": {
  "kernelspec": {
   "display_name": "Python 3",
   "language": "python",
   "name": "python3"
  },
  "language_info": {
   "codemirror_mode": {
    "name": "ipython",
    "version": 3
   },
   "file_extension": ".py",
   "mimetype": "text/x-python",
   "name": "python",
   "nbconvert_exporter": "python",
   "pygments_lexer": "ipython3",
   "version": "3.11.6"
  },
  "orig_nbformat": 4
 },
 "nbformat": 4,
 "nbformat_minor": 2
}
