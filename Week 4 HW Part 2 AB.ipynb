{
 "cells": [
  {
   "cell_type": "code",
   "execution_count": 8,
   "metadata": {},
   "outputs": [
    {
     "name": "stdout",
     "output_type": "stream",
     "text": [
      "Renting a car is more affordable\n"
     ]
    }
   ],
   "source": [
    "#1. Create an if statement: if 'age' is greater than or equal to 25, print \"Renting a car is more affordable\", however if 'age' is less than 25, print \"Renting a car is very expensive.\"\n",
    "\n",
    "a = int(input('age'))\n",
    "if a >= 25:\n",
    "    print(\"Renting a car is more affordable\")\n",
    "else:\n",
    "    print(\"Renting a car is very expensive\")\n"
   ]
  },
  {
   "cell_type": "code",
   "execution_count": 11,
   "metadata": {},
   "outputs": [
    {
     "name": "stdout",
     "output_type": "stream",
     "text": [
      "Renting a car is expensive\n"
     ]
    }
   ],
   "source": [
    "#2. Create and chain an if-else  statement: if 'age' is greater than or equal to 25, print \"Renting a car is more affordable.\" If 'age' is less than 25 but greater than or equal to 18, print \"Renting a car is very expensive.\" Finally, if age is less than 18, print \"You cannot legally rent a car.\"\n",
    "\n",
    "a = int(input('age'))\n",
    "if a >= 25:\n",
    "    print(\"Renting a car is more affordable\")\n",
    "elif a >= 18:\n",
    "    print(\"Renting a car is expensive\")\n",
    "else:\n",
    "    print(\"You can't get a car legally\")"
   ]
  },
  {
   "cell_type": "code",
   "execution_count": 26,
   "metadata": {},
   "outputs": [
    {
     "name": "stdout",
     "output_type": "stream",
     "text": [
      "43\n",
      "['e']\n",
      "['e', 'u']\n",
      "['e', 'u', 'i']\n",
      "['e', 'u', 'i', 'o']\n",
      "['e', 'u', 'i', 'o', 'o']\n",
      "['e', 'u', 'i', 'o', 'o', 'u']\n",
      "['e', 'u', 'i', 'o', 'o', 'u', 'o']\n",
      "['e', 'u', 'i', 'o', 'o', 'u', 'o', 'e']\n",
      "['e', 'u', 'i', 'o', 'o', 'u', 'o', 'e', 'e']\n",
      "['e', 'u', 'i', 'o', 'o', 'u', 'o', 'e', 'e', 'a']\n",
      "['e', 'u', 'i', 'o', 'o', 'u', 'o', 'e', 'e', 'a', 'o']\n"
     ]
    }
   ],
   "source": [
    "#3. Loop over the following string to (1) count all the characters in the string and (2) print out all the vowels -- \"The quick brown fox jumps over the lazy dog\"\n",
    "\n",
    "q = \"The quick brown fox jumps over the lazy dog\"\n",
    "sum = 0\n",
    "for char in q:\n",
    "    sum += 1\n",
    "print(sum)\n",
    "\n",
    "vowels = 'aeiou'\n",
    "vowel_list = []\n",
    "for char in q:\n",
    "    if char.lower() in vowels:\n",
    "        vowel_list.append(char)\n",
    "        #Join vowel_list\n",
    "        print(vowel_list)\n",
    "\n"
   ]
  },
  {
   "cell_type": "code",
   "execution_count": 27,
   "metadata": {},
   "outputs": [
    {
     "name": "stdout",
     "output_type": "stream",
     "text": [
      "trousers in aqua\n",
      "trousers in cerise\n",
      "trousers in auburn\n",
      "trousers in burnt sienna\n",
      "trousers in gunmetal blue\n",
      "trousers in fuchsia\n",
      "trousers in Dark Sapphire\n",
      "trousers in maple\n",
      "blouse in aqua\n",
      "blouse in cerise\n",
      "blouse in auburn\n",
      "blouse in burnt sienna\n",
      "blouse in gunmetal blue\n",
      "blouse in fuchsia\n",
      "blouse in Dark Sapphire\n",
      "blouse in maple\n",
      "bandana in aqua\n",
      "bandana in cerise\n",
      "bandana in auburn\n",
      "bandana in burnt sienna\n",
      "bandana in gunmetal blue\n",
      "bandana in fuchsia\n",
      "bandana in Dark Sapphire\n",
      "bandana in maple\n",
      "cumber band in aqua\n",
      "cumber band in cerise\n",
      "cumber band in auburn\n",
      "cumber band in burnt sienna\n",
      "cumber band in gunmetal blue\n",
      "cumber band in fuchsia\n",
      "cumber band in Dark Sapphire\n",
      "cumber band in maple\n",
      "blazer in aqua\n",
      "blazer in cerise\n",
      "blazer in auburn\n",
      "blazer in burnt sienna\n",
      "blazer in gunmetal blue\n",
      "blazer in fuchsia\n",
      "blazer in Dark Sapphire\n",
      "blazer in maple\n",
      "vest in aqua\n",
      "vest in cerise\n",
      "vest in auburn\n",
      "vest in burnt sienna\n",
      "vest in gunmetal blue\n",
      "vest in fuchsia\n",
      "vest in Dark Sapphire\n",
      "vest in maple\n",
      "french beret in aqua\n",
      "french beret in cerise\n",
      "french beret in auburn\n",
      "french beret in burnt sienna\n",
      "french beret in gunmetal blue\n",
      "french beret in fuchsia\n",
      "french beret in Dark Sapphire\n",
      "french beret in maple\n",
      "scarf in aqua\n",
      "scarf in cerise\n",
      "scarf in auburn\n",
      "scarf in burnt sienna\n",
      "scarf in gunmetal blue\n",
      "scarf in fuchsia\n",
      "scarf in Dark Sapphire\n",
      "scarf in maple\n",
      "stole in aqua\n",
      "stole in cerise\n",
      "stole in auburn\n",
      "stole in burnt sienna\n",
      "stole in gunmetal blue\n",
      "stole in fuchsia\n",
      "stole in Dark Sapphire\n",
      "stole in maple\n"
     ]
    }
   ],
   "source": [
    "#4. Write a nested loop that prints out every piece of clothing from the `couture` list, in every fashionable color from the `panettone` set: couture = [\"trousers\", \"blouse\", \"bandana\", \"cumber band\", \"blazer\", \"vest\", \"french beret\", \"scarf\", \"stole\"] and panettone = {\"cerise\", \"fuchsia\", \"aqua\", \"maple\", \"auburn\", \"burnt sienna\", \"gunmetal blue\", \"Dark Sapphire\"}\n",
    "\n",
    "couture = [\"trousers\", \"blouse\", \"bandana\", \"cumber band\", \"blazer\", \"vest\", \"french beret\", \"scarf\", \"stole\"]\n",
    "panettone = {\"cerise\", \"fuchsia\", \"aqua\", \"maple\", \"auburn\", \"burnt sienna\", \"gunmetal blue\", \"Dark Sapphire\"}\n",
    "\n",
    "for clothing_item in couture:\n",
    "    for color in panettone:\n",
    "        print(f\"{clothing_item} in {color}\")"
   ]
  },
  {
   "cell_type": "code",
   "execution_count": 29,
   "metadata": {},
   "outputs": [
    {
     "name": "stdout",
     "output_type": "stream",
     "text": [
      "The sum of numbers from 1-100 is: 5050\n"
     ]
    }
   ],
   "source": [
    "#5. Use range as a loop to calculate the sum of all the numbers from 1 to 100\n",
    "\n",
    "sum = 0\n",
    "for number in range(1,101):\n",
    "    sum += number\n",
    "print(\"The sum of numbers from 1-100 is:\", sum)"
   ]
  },
  {
   "cell_type": "code",
   "execution_count": 45,
   "metadata": {},
   "outputs": [
    {
     "name": "stdout",
     "output_type": "stream",
     "text": [
      "banana\n",
      "['apple', 'banana', 'cherry', 'orange']\n",
      "['kiwi', 'banana', 'cherry', 'orange']\n",
      "['kiwi', 'lemon', 'banana', 'cherry', 'orange']\n",
      "['kiwi', 'lemon', 'cherry', 'orange']\n",
      "cherry\n",
      "kiwi\n",
      "['cherry', 'orange', 'kiwi']\n",
      "7\n",
      "['orange', 'melon', 'mango', 'kiwi', 'cherry', 'banana', 'apple']\n"
     ]
    }
   ],
   "source": [
    "#6-14. fruit list.\n",
    "fruit = [\"apple\", \"banana\", \"cherry\"]\n",
    "print(fruit[1])\n",
    "\n",
    "fruit.append(\"orange\")\n",
    "print(fruit)\n",
    "\n",
    "fruit[0] = \"kiwi\"\n",
    "print(fruit)\n",
    "\n",
    "fruit.insert(1, \"lemon\")\n",
    "print(fruit)\n",
    "\n",
    "fruit.remove(\"banana\")\n",
    "print(fruit)\n",
    "\n",
    "fruit = [\"apple\", \"banana\", \"cherry\", \"orange\", \"kiwi\", \"melon\", \"mango\"]\n",
    "print(fruit[-5])\n",
    "print(fruit[-3])\n",
    "\n",
    "print(fruit[2:5])\n",
    "\n",
    "print(len(fruit))\n",
    "\n",
    "fruit.sort(reverse=True)\n",
    "print(fruit)"
   ]
  },
  {
   "cell_type": "code",
   "execution_count": 57,
   "metadata": {},
   "outputs": [
    {
     "name": "stdout",
     "output_type": "stream",
     "text": [
      "2023-10-31 06:40:57.229572\n",
      "October\n"
     ]
    }
   ],
   "source": [
    "#15. Use the DateTime module to get Current Date and Time, and save it to a variable. Then extract just the Full month name form that variable.\n",
    "\n",
    "import datetime as dt\n",
    "a = dt.datetime.now()\n",
    "month = a.strftime('%B')\n",
    "print(a)\n",
    "print(month)\n"
   ]
  },
  {
   "cell_type": "code",
   "execution_count": 9,
   "metadata": {},
   "outputs": [
    {
     "name": "stdout",
     "output_type": "stream",
     "text": [
      "Hello, Waffle! Have a great Sunday!\n",
      "Hello, Bagel! Have a great Tuesday!\n"
     ]
    }
   ],
   "source": [
    "#16 Write a simple function that takes 2 parameters -- a  first name and a day name.\n",
    "def g_n_d(first_name, day_name):\n",
    "    return f\"Hello, {first_name}! Have a great {day_name}!\"\n",
    "#Set a default value for the day name of Sunday.\n",
    "def g_n_d(first_name, day_name=\"Sunday\"):\n",
    "    return f\"Hello, {first_name}! Have a great {day_name}!\"\n",
    "\n",
    "#Have the function print out a greeting -- using the parameters -- that says something like \"Hi first-name! Happy day-name!\". Remember to use the variables in the greeting to replace first-name and day-name.  \n",
    "first_name = \"Bagel\"\n",
    "day_name = \"Tuesday\"\n",
    "greeting_message = g_n_d(first_name, day_name)\n",
    "print(greeting_message)\n",
    "\n",
    "#Invoke this function with 2 variables.\n",
    "\n",
    "\n",
    "#Invoke this function with 1 variable only.\n",
    "first_name = \"Waffle\"\n",
    "greeting_message = g_n_d(first_name)\n",
    "print(greeting_message)"
   ]
  },
  {
   "cell_type": "code",
   "execution_count": 5,
   "metadata": {},
   "outputs": [
    {
     "ename": "NameError",
     "evalue": "name 'name' is not defined",
     "output_type": "error",
     "traceback": [
      "\u001b[1;31m---------------------------------------------------------------------------\u001b[0m",
      "\u001b[1;31mNameError\u001b[0m                                 Traceback (most recent call last)",
      "\u001b[1;32mc:\\Users\\benoi\\savvycoders\\Homework\\Week 4 HW Part 2 AB.ipynb Cell 9\u001b[0m line \u001b[0;36m2\n\u001b[0;32m      <a href='vscode-notebook-cell:/c%3A/Users/benoi/savvycoders/Homework/Week%204%20HW%20Part%202%20AB.ipynb#X11sZmlsZQ%3D%3D?line=0'>1</a>\u001b[0m \u001b[39m#17 \u001b[39;00m\n\u001b[1;32m----> <a href='vscode-notebook-cell:/c%3A/Users/benoi/savvycoders/Homework/Week%204%20HW%20Part%202%20AB.ipynb#X11sZmlsZQ%3D%3D?line=1'>2</a>\u001b[0m \u001b[39mprint\u001b[39m(name)\n",
      "\u001b[1;31mNameError\u001b[0m: name 'name' is not defined"
     ]
    }
   ],
   "source": [
    "#17 Write a block of code to handle one of the most common Python exception errors. Select one of the common errors from the curriculum section on Python Exception handling. Have your code example uses the `try`,`except`, `else`, and `finally` components.\n",
    "print(name)"
   ]
  }
 ],
 "metadata": {
  "kernelspec": {
   "display_name": "Python 3",
   "language": "python",
   "name": "python3"
  },
  "language_info": {
   "codemirror_mode": {
    "name": "ipython",
    "version": 3
   },
   "file_extension": ".py",
   "mimetype": "text/x-python",
   "name": "python",
   "nbconvert_exporter": "python",
   "pygments_lexer": "ipython3",
   "version": "3.11.6"
  },
  "orig_nbformat": 4
 },
 "nbformat": 4,
 "nbformat_minor": 2
}
