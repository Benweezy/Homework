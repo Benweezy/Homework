{
 "cells": [
  {
   "cell_type": "markdown",
   "metadata": {},
   "source": [
    "7.1 HW Questions\n",
    "\n",
    "1. Using EVregistry, Write a query to select the `ModelYear`, `Make`, and `Model` off all of the vehicles in the registry.\n",
    "\n",
    "SELECT ModelYear, Make, Model\n",
    "FROM EVRegistry"
   ]
  },
  {
   "cell_type": "markdown",
   "metadata": {},
   "source": [
    "2. Using the EVRegistry table, Write a query that lists all of the unique types of EV's. your reult set should have one column, `ElectricVehicleType`. \n",
    "\n",
    "SELECT ElectricVehicleType\n",
    "FROM EVRegistry\n",
    "group by ElectricVehicleType"
   ]
  },
  {
   "cell_type": "markdown",
   "metadata": {},
   "source": [
    "3. Using the EVRegistry, Write a query that shows all of the information on Battery Electric Vehicles (BEV) that are in the registry.\n",
    "\n",
    "SELECT ElectricVehicleType\n",
    "FROM EVRegistry\n",
    "WHERE ElectricVehicleType LIKE '%(BEV)' "
   ]
  },
  {
   "cell_type": "markdown",
   "metadata": {},
   "source": [
    "4. Using the EVRegistry, wirte a query that returns the `Make` and `Model` of all of the EV's that have a BaseMSRP between 20000 and 35000?\n",
    "\n",
    "SELECT Make, Model\n",
    "FROM EVRegistry\n",
    "WHERE BaseMSRP BETWEEN 20000 and 35000\n"
   ]
  },
  {
   "cell_type": "markdown",
   "metadata": {},
   "source": [
    "7.2 HW Questions \n",
    "\n",
    "1. Using EVRegistry, write a query to find a record  where the `City` attribute is NULL. Return all of the available columns. \n",
    "\n",
    "SELECT *\n",
    "FROM EVRegistry\n",
    "WHERE City = NULL"
   ]
  },
  {
   "cell_type": "markdown",
   "metadata": {},
   "source": [
    "2. Write a query to find the `make`, `model`, and `ElectricVehicleType` where the VIN number has  that ends in '3E1EA1J'.\n",
    "\n",
    "SELECT Make, Model, ElectricVehicleType, VIN\n",
    "FROM EVRegistry\n",
    "WHERE VIN like '%3E1EA1J'"
   ]
  },
  {
   "cell_type": "markdown",
   "metadata": {},
   "source": [
    "3. Select the `ModelYear`, `make`, `model`, `ElectricVehicleType`, and `range` of the Tesla vehicles or cheverolet vehicles in the registry. Order the result set by Make and Model year in from newest to oldest. \n",
    "\n",
    "SELECT \"Make\", \"Model\", \"ElectricRange\", \"ElectricVehicleType\"\n",
    "FROM EVRegistry\n",
    "WHERE Make = 'TESLA'\n",
    "ORDER BY Make, ModelYear ASC "
   ]
  },
  {
   "cell_type": "markdown",
   "metadata": {},
   "source": [
    "4. Using EVCharging, Write a query to find out how many many times those stations were used. Order them by the most used to the least used and limit the output to 5 records. \n",
    "\n",
    "SELECT *\n",
    "FROM EVCharging\n",
    "GROUP BY stationId\n",
    "ORDER BY chargeTimeHrs DESC\n",
    "LIMIT 5"
   ]
  },
  {
   "cell_type": "markdown",
   "metadata": {},
   "source": [
    "5.  Using EVCharging, For the folks who charged longer than 0.5 hours, show the min and max of the charging time for each user. Your output columns should be `userid`, `minTime`, and `maxTime`. Order this result set by the last two columns respectively. \n",
    "\n",
    "SELECT \"userId\", min(chargeTimehrs) as 'minTime', max(\"chargeTimeHrs\") as 'maxTime'\n",
    "FROM EVCharging\n",
    "WHERE chargeTimeHrs > 0.5\n",
    "GROUP BY \"userId\"\n",
    "ORDER BY minTime ASC, maxTime DESC"
   ]
  },
  {
   "cell_type": "markdown",
   "metadata": {},
   "source": [
    " 7.3 HW Questions\n",
    "\n",
    "1. Using EVCharging, Which day of the week has the highest average charging time? Round the answer to 2 decimal points.\n",
    "\n",
    "SELECT \"weekday\", round(avg\t(\"chargeTimeHrs\"), 2)\n",
    "FROM EVCharging\n",
    "GROUP BY weekday\n",
    "ORDER BY round(avg\t(\"chargeTimeHrs\"), 2) DESC"
   ]
  },
  {
   "cell_type": "markdown",
   "metadata": {},
   "source": [
    "2. Using, EV charging, Find the total power consumed from charging EV's by each User. Return the `userId` and name the calculated column, `totalPower`. Round the answer to 2 deciaml points and list the out put in highest to lowest order. Limit the order to the top 15 users. \n",
    "\n",
    "SELECT \"userId\", \"kwhTotal\"\n",
    "FROM EVCharging\n",
    "GROUP BY \"userId\"\n",
    "ORDER BY kwhTotal DESC\n",
    "LIMIT 10"
   ]
  },
  {
   "cell_type": "markdown",
   "metadata": {},
   "source": [
    "3. Using dimfacility and factCharge, write a query to find out which type of facility (GROUP BY) has the most amount of charging stations. Return `type Facility` and name the calculated column `numStation`. Order the result set from highest to lowest number of charging stations.  \n",
    "\n",
    "SELECT df.FacilityKey, fc.facilityID, count(\"stationId\") as numStation\n",
    "FROM  dimFacility df\n",
    "INNER JOIN factCharge fc\n",
    "ON df.FacilityKey = fc.FacilityID\n",
    "Group BY typeFacility"
   ]
  },
  {
   "cell_type": "markdown",
   "metadata": {},
   "source": [
    "4. In your own words, Briefly explain Primary Keys and Foreign Keys.\n",
    "\n",
    "Cannot have nulls, can be used to join two tables together\n",
    "\n",
    "Primary Key is belongs to the original data base\n",
    "\n",
    "Foreign Key, column that referrs to OG table is foreign key\n",
    "\n"
   ]
  },
  {
   "cell_type": "markdown",
   "metadata": {},
   "source": [
    "5. Using EV Charging, For the folks who charged longer than one hour, show the min and max of the charging time for each user. Your output columns should be `userid`, `minTime`, and `maxTime`. Order this result set by the last two columns respectively. HINT: USE `HAVING`\n",
    "\n",
    "SELECT \"userId\", min(chargeTimehrs) as 'minTime', max(\"chargeTimeHrs\") as 'maxTime'\n",
    "FROM EVCharging\n",
    "GROUP BY userId\n",
    "HAVING chargeTimehrs > 1\n",
    "ORDER BY 2, 3"
   ]
  }
 ],
 "metadata": {
  "language_info": {
   "name": "python"
  }
 },
 "nbformat": 4,
 "nbformat_minor": 2
}
